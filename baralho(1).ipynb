{
  "cells": [
    {
      "cell_type": "code",
      "execution_count": 2,
      "metadata": {
        "id": "jvxGixjy48S-"
      },
      "outputs": [],
      "source": [
        "# Importações\n",
        "import random, numpy as np, time"
      ]
    },
    {
      "cell_type": "code",
      "execution_count": 3,
      "metadata": {
        "id": "nFDZyIwP69l8"
      },
      "outputs": [],
      "source": [
        "# Carrega todas listas e matrizes usadas.\n",
        "grade_frente = np.empty((4, 8), dtype='U3')\n",
        "grade_verso = np.empty((4, 8), dtype='U3')\n",
        "grade_verso.fill('☐')\n",
        "cartas = []\n",
        "numero_cartas = list(map(lambda x: str(x), range(2, 11)))\n",
        "numero_cartas.insert(0, 'A')\n",
        "numero_cartas += ['J', 'Q', 'K']\n",
        "naipe_cartas = ['♥️', '♦️', '♣️', '♠️']\n",
        "\n",
        "# Cabeçalho.\n",
        "def boas_vindas():\n",
        "    print('♥♦♣♠♥♦♣♠♥♦♣♠♥♦♣♠♥♦♣♠♥♦♣♠♥♦♣♠♥♦♣♠♥♦♣♠♥♦♣♠♥♦♣♠')\n",
        "    print('♦Bem vindo(a) ao Jogo da Memória em Python!♥')\n",
        "    print('♥♠♣♦♥♠♣♦♥♠♣♦♥♠♣♦♥♠♣♦♥♠♣♦♥♠♣♦♥♠♣♦♥♠♣♦♥♠♣♦♥♠♣♦')\n",
        "\n",
        "# Função que cria 32 cartas com valores aleatórios de A-K com todos os naipes.\n",
        "def criar_cartas():\n",
        "    global cartas, numero_cartas, naipe_cartas\n",
        "    for i in range(4):\n",
        "        for j in range(4):\n",
        "            n_aleatorio = random.randint(0, 12)\n",
        "            cartas += [numero_cartas[n_aleatorio] + naipe_cartas[j]]\n",
        "            cartas += [numero_cartas[n_aleatorio] + naipe_cartas[j]]\n",
        "\n",
        "# Organiza as cartas como numa mesa.\n",
        "def organizar_cartas():\n",
        "    global grade_frente, cartas\n",
        "    for i in range(4):\n",
        "        for j in range(8):\n",
        "            if grade_frente[i][j] == '':\n",
        "                tam = len(cartas)\n",
        "                n_aleatorio = random.randint(0, tam-1)\n",
        "                carta = cartas[n_aleatorio]\n",
        "                grade_frente[i][j] = carta\n",
        "                cartas.remove(carta)\n",
        "\n",
        "# Retorna valor booleano para definir modo de jogo.\n",
        "def modo_de_jogo():\n",
        "    modo = int(input(\"ESCOLHA SEU MODO DE JOGO \\n Digite 1 para jogar sozinho ou 2 para competitivo 1x1.\"))\n",
        "    if modo == 1:\n",
        "        return True\n",
        "    return False\n",
        "\n",
        "# Jogo sozinho.\n",
        "def jogo_solo():\n",
        "    global grade_verso, grade_frente\n",
        "    print('AVISO \\n As coordenadas começam em 1.')\n",
        "    while True:\n",
        "        n = 0\n",
        "        print(grade_verso)\n",
        "        nl1 = int(input(\"Insira qual linha você quer.\"))\n",
        "        nc1 = int(input(\"Insira qual coluna você quer.\"))\n",
        "        carta1 = grade_frente[nl1-1][nc1-1]\n",
        "        grade_verso[nl1-1][nc1-1] = carta1\n",
        "        print(grade_verso)\n",
        "        nl2 = int(input(\"Insira qual linha você quer.\"))\n",
        "        nc2 = int(input(\"Insira qual coluna você quer.\"))\n",
        "        carta2 = grade_frente[nl2-1][nc2-1]\n",
        "        grade_verso[nl2-1][nc2-1] = carta2\n",
        "        print(grade_verso)\n",
        "        if carta1 == carta2:\n",
        "            print('Acertou!')\n",
        "            grade_frente[nl1-1][nc1-1] = ' '\n",
        "            grade_verso[nl1-1][nc1-1] = ' '\n",
        "            grade_frente[nl2-1][nc2-1] = ' '\n",
        "            grade_verso[nl2-1][nc2-1] = ' '\n",
        "        else:\n",
        "            print('Errou!')\n",
        "            grade_verso[nl1-1][nc1-1] = '☐'\n",
        "            grade_verso[nl2-1][nc2-1] = '☐'\n",
        "        for i in range(4):\n",
        "            for j in range(8):\n",
        "                if grade_verso[i][j] == ' ':\n",
        "                    n += 1\n",
        "\n",
        "        if n == 32:\n",
        "            print('Fim de jogo.')\n",
        "            break\n",
        "\n",
        "# Jogo 1 contra 1.\n",
        "def jogo_1x1():\n",
        "    global grade_verso, grade_frente\n",
        "    player1 = input('Escolha o nome do jogador 1')\n",
        "    player2 = input('Escolha o nome do jogador 2')\n",
        "    pontos1, pontos2 = 0, 0\n",
        "    vez = True\n",
        "    print('AVISO \\n As coordenadas começam em 1.')\n",
        "    while True:\n",
        "        n = 0\n",
        "        if vez:\n",
        "            player_da_vez = player1\n",
        "        else:\n",
        "            player_da_vez = player2\n",
        "        print('PLACAR \\n ', player1, ' : ', pontos1, '\\n', player2, ' : ', pontos2)\n",
        "        print('Vez de: ', player_da_vez)\n",
        "        print(grade_verso)\n",
        "        nl1 = int(input(\"Insira qual linha você quer.\"))\n",
        "        nc1 = int(input(\"Insira qual coluna você quer.\"))\n",
        "        carta1 = grade_frente[nl1-1][nc1-1]\n",
        "        grade_verso[nl1-1][nc1-1] = carta1\n",
        "        print(grade_verso)\n",
        "        nl2 = int(input(\"Insira qual linha você quer.\"))\n",
        "        nc2 = int(input(\"Insira qual coluna você quer.\"))\n",
        "        carta2 = grade_frente[nl2-1][nc2-1]\n",
        "        grade_verso[nl2-1][nc2-1] = carta2\n",
        "        print(grade_verso)\n",
        "        if carta1 == carta2:\n",
        "            print('Acertou! Jogue novamente.')\n",
        "            if vez:\n",
        "                pontos1 += 1\n",
        "            else:\n",
        "                pontos2 += 1\n",
        "            grade_frente[nl1-1][nc1-1] = ' '\n",
        "            grade_verso[nl1-1][nc1-1] = ' '\n",
        "            grade_frente[nl2-1][nc2-1] = ' '\n",
        "            grade_verso[nl2-1][nc2-1] = ' '\n",
        "        else:\n",
        "            print('Errou!')\n",
        "            if vez:\n",
        "                vez = False\n",
        "            else:\n",
        "                vez = True\n",
        "            grade_verso[nl1-1][nc1-1] = '☐'\n",
        "            grade_verso[nl2-1][nc2-1] = '☐'\n",
        "\n",
        "        for i in range(4):\n",
        "            for j in range(8):\n",
        "                if grade_verso[i][j] == ' ':\n",
        "                    n += 1\n",
        "        if n == 32:\n",
        "            if pontos1 > pontos2:\n",
        "                print('♥♦♣♠ Jogador, ',player1, ' venceu, com ', pontos1, ' pontos! ♠♣♦♥')\n",
        "            else:\n",
        "                print('♥♦♣♠ Jogador, ',player2, ' venceu, com ', pontos2, ' pontos! ♠♣♦♥')\n",
        "            break\n"
      ]
    },
    {
      "cell_type": "code",
      "source": [
        "# Começando o jogo.\n",
        "criar_cartas()\n",
        "organizar_cartas()\n",
        "grade_frente"
      ],
      "metadata": {
        "id": "eN-7G0UgIB-G",
        "outputId": "eb6a0cdf-eb62-43b3-fdec-f48033870585",
        "colab": {
          "base_uri": "https://localhost:8080/"
        }
      },
      "execution_count": 4,
      "outputs": [
        {
          "output_type": "execute_result",
          "data": {
            "text/plain": [
              "array([['5♣️', 'J♠️', '10♠', '2♠️', '10♥', '6♣️', '2♥️', '10♥'],\n",
              "       ['8♦️', 'K♦️', '8♥️', '6♣️', '10♠', 'K♦️', '2♦️', '6♦️'],\n",
              "       ['5♣️', '8♦️', 'Q♠️', '5♣️', 'A♣️', 'K♥️', '5♣️', 'A♣️'],\n",
              "       ['8♥️', '2♦️', 'Q♠️', '6♦️', 'K♥️', '2♠️', 'J♠️', '2♥️']],\n",
              "      dtype='<U3')"
            ]
          },
          "metadata": {},
          "execution_count": 4
        }
      ]
    },
    {
      "cell_type": "code",
      "execution_count": null,
      "metadata": {
        "id": "JfGLUjSspOJ-"
      },
      "outputs": [],
      "source": [
        "boas_vindas()\n",
        "if modo_de_jogo() == True:\n",
        "    jogo_solo()\n",
        "else:\n",
        "    jogo_1x1()"
      ]
    }
  ],
  "metadata": {
    "colab": {
      "provenance": []
    },
    "kernelspec": {
      "display_name": "Python 3",
      "name": "python3"
    },
    "language_info": {
      "name": "python"
    }
  },
  "nbformat": 4,
  "nbformat_minor": 0
}